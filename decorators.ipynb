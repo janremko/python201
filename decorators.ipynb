{
 "cells": [
  {
   "cell_type": "markdown",
   "id": "0ec8df9d-65ee-41d8-ba55-930ef2f32f31",
   "metadata": {},
   "source": [
    "## Python decorators"
   ]
  },
  {
   "cell_type": "code",
   "execution_count": null,
   "id": "d078b21f-7a85-43d4-b940-7e2b922cdee1",
   "metadata": {},
   "outputs": [],
   "source": [
    "# A simple function and how it's used:\n",
    "\n",
    "def add_one(number):\n",
    "    return number + 1\n",
    "\n",
    "add_one(2)\n",
    "\n",
    "# no side effects, just turning an input into an output, a pure function\n",
    "# Python is a rather functional programming language, including the fact \n",
    "# that functions are First-Class Objects"
   ]
  },
  {
   "cell_type": "code",
   "execution_count": null,
   "id": "10d66934-13b4-42c0-b81e-ec242bb6a7bc",
   "metadata": {},
   "outputs": [],
   "source": [
    "# First-Class objects: functions can be used as arguments to functions\n",
    "\n",
    "def say_hello(name):\n",
    "    return f\"Hello {name}\"\n",
    "\n",
    "def be_awesome(name):\n",
    "    return f\"Yo {name}, together we are the awesomest!\"\n",
    "\n",
    "def greet_bob(greeter_func):\n",
    "    return greeter_func(\"Bob\")\n"
   ]
  },
  {
   "cell_type": "code",
   "execution_count": null,
   "id": "f2896418-1c87-4720-8b8b-dd34b3bcd905",
   "metadata": {},
   "outputs": [],
   "source": [
    "greet_bob(say_hello)"
   ]
  },
  {
   "cell_type": "code",
   "execution_count": null,
   "id": "e60e1d87-da13-453d-ae8b-5709dc56f8fc",
   "metadata": {},
   "outputs": [],
   "source": [
    "greet_bob(be_awesome)"
   ]
  },
  {
   "cell_type": "code",
   "execution_count": null,
   "id": "003922f5-1f87-442b-8093-74deda7634ca",
   "metadata": {},
   "outputs": [],
   "source": [
    "# Inner Functions\n",
    "\n",
    "def parent():\n",
    "    print('Printing from the parent() function')\n",
    "\n",
    "    def first_child():\n",
    "        print(\"Printing from the first_child() function\")\n",
    "\n",
    "    def second_child():\n",
    "        print(\"Printing from the second_child() function\")\n",
    "\n",
    "    second_child()\n",
    "    first_child()\n",
    "\n",
    "parent()\n",
    "    "
   ]
  },
  {
   "cell_type": "code",
   "execution_count": null,
   "id": "b7c39a78-f457-480a-be40-5847a8ccf1f6",
   "metadata": {},
   "outputs": [],
   "source": [
    "# Inner functions are local to the parent function\n",
    "\n",
    "first_child()"
   ]
  },
  {
   "cell_type": "code",
   "execution_count": null,
   "id": "3833c89e-d5e9-4a63-b3bb-d4d4de7019a2",
   "metadata": {},
   "outputs": [],
   "source": [
    "# returning functions from functions\n",
    "\n",
    "def parent(num):\n",
    "    def first_child():\n",
    "        return \"Hi, I am Emma\"\n",
    "    def second_child():\n",
    "        return \"Call me Liam\"\n",
    "    if num == 1:\n",
    "        return first_child\n",
    "    else:\n",
    "        return second_child\n",
    "\n",
    "first = parent(1)\n",
    "second = parent(2)\n",
    "\n",
    "first"
   ]
  },
  {
   "cell_type": "code",
   "execution_count": null,
   "id": "ee41c106-e062-4662-a6b1-ceadc1abcee6",
   "metadata": {},
   "outputs": [],
   "source": [
    "second"
   ]
  },
  {
   "cell_type": "code",
   "execution_count": null,
   "id": "36bb2ec4-8ca2-4df6-91a1-091db23b8f3d",
   "metadata": {},
   "outputs": [],
   "source": [
    "first()"
   ]
  },
  {
   "cell_type": "code",
   "execution_count": null,
   "id": "8af775fc-0ba1-49a0-b7c8-18f1b175c117",
   "metadata": {},
   "outputs": [],
   "source": [
    "second()"
   ]
  },
  {
   "cell_type": "markdown",
   "id": "f3b9e97c-bcc3-48ae-aefc-5fe435478dd8",
   "metadata": {},
   "source": [
    "## Ok and now for some decoration!"
   ]
  },
  {
   "cell_type": "code",
   "execution_count": null,
   "id": "350707d8-e0d2-4ea5-a481-8ceab9ce3d23",
   "metadata": {},
   "outputs": [],
   "source": [
    "def my_decorator(func):\n",
    "    def wrapper():\n",
    "        print(\"Something is happening before the function is called.\")\n",
    "        func()\n",
    "        print(\"Something is happening after the function is called.\")\n",
    "    return wrapper\n",
    "\n",
    "def say_whee():\n",
    "    print(\"Whee!\")\n",
    "\n",
    "say_whee = my_decorator(say_whee)"
   ]
  },
  {
   "cell_type": "code",
   "execution_count": null,
   "id": "8d4ba4ea-2a3c-4b13-b6b5-6e8c04977d26",
   "metadata": {},
   "outputs": [],
   "source": [
    "say_whee()"
   ]
  },
  {
   "cell_type": "code",
   "execution_count": null,
   "id": "04603a9a-a0dd-4e7d-bdcb-ab3743d58854",
   "metadata": {},
   "outputs": [],
   "source": [
    "say_whee"
   ]
  },
  {
   "cell_type": "markdown",
   "id": "1476083f-a762-4588-b9af-a4084578e298",
   "metadata": {},
   "source": [
    "Put simply: **decorators wrap a function, modifying its behavior**.\n",
    "\n",
    "And now for some syntactic sugar:"
   ]
  },
  {
   "cell_type": "code",
   "execution_count": null,
   "id": "202bde63-e746-468b-8fee-fdbb83942dd2",
   "metadata": {},
   "outputs": [],
   "source": [
    "def my_decorator(func):\n",
    "    def wrapper():\n",
    "        print(\"Something is happening before the function is called.\")\n",
    "        func()\n",
    "        print(\"Something is happening after the function is called.\")\n",
    "    return wrapper\n",
    "\n",
    "@my_decorator\n",
    "def say_whee():\n",
    "    print(\"Whee!\")"
   ]
  },
  {
   "cell_type": "code",
   "execution_count": null,
   "id": "220a543f-a0bb-42a8-870e-0ddd161c144d",
   "metadata": {},
   "outputs": [],
   "source": [
    "say_whee()"
   ]
  },
  {
   "cell_type": "code",
   "execution_count": null,
   "id": "3daa7e6e-af7a-4a8e-ab0a-474204df0178",
   "metadata": {},
   "outputs": [],
   "source": []
  }
 ],
 "metadata": {
  "kernelspec": {
   "display_name": "Python 3 (ipykernel)",
   "language": "python",
   "name": "python3"
  },
  "language_info": {
   "codemirror_mode": {
    "name": "ipython",
    "version": 3
   },
   "file_extension": ".py",
   "mimetype": "text/x-python",
   "name": "python",
   "nbconvert_exporter": "python",
   "pygments_lexer": "ipython3",
   "version": "3.11.3"
  }
 },
 "nbformat": 4,
 "nbformat_minor": 5
}
