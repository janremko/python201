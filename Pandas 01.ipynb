{
 "cells": [
  {
   "cell_type": "markdown",
   "id": "d1f71986-7eaa-418b-a54d-3f310e058afc",
   "metadata": {},
   "source": [
    "# 1 Pandas DataFrame Basics\n",
    "\n",
    "Pandas is a open source Python library for data analysis. It offers a spreadsheet like data structure called a ```DataFrame``` and a separate structure for a column in a ```DataFrame``` called a ```Series```. A ```DataFrame``` can be thought of as a ```Dictionary``` of ```Series``` objects."
   ]
  },
  {
   "cell_type": "code",
   "execution_count": null,
   "id": "81b346a3-4995-412e-9bfa-31b569c55fce",
   "metadata": {},
   "outputs": [],
   "source": [
    "import pandas as pd # notice the alias, by convention pandas is aliased with pd"
   ]
  },
  {
   "cell_type": "code",
   "execution_count": null,
   "id": "4f957dd6-6a54-4cc7-931f-3979a43206f7",
   "metadata": {},
   "outputs": [],
   "source": [
    "# by default the read_csv function will read a comma-separated file\n",
    "# our gapminder data are separated by tabs\n",
    "# we can use the sep parameter and indicate a tab with \\t\n",
    "\n",
    "df = pd.read_csv('gapminder.tsv', sep='\\t')\n",
    "\n",
    "# we use the head method so Python shows us onlye the first 5 rows\n",
    "\n",
    "print(df.head())"
   ]
  },
  {
   "cell_type": "code",
   "execution_count": null,
   "id": "01449f76-8edb-4ba9-9b30-1ecaa92dc4dc",
   "metadata": {},
   "outputs": [],
   "source": [
    "df.head()"
   ]
  },
  {
   "cell_type": "code",
   "execution_count": null,
   "id": "a0e3e580-76d3-49d9-88ec-fbe9ed641af0",
   "metadata": {},
   "outputs": [],
   "source": [
    "print(type(df))"
   ]
  },
  {
   "cell_type": "code",
   "execution_count": null,
   "id": "f8fadc90-42ec-4276-bb8f-07c904e285a3",
   "metadata": {},
   "outputs": [],
   "source": [
    "# pyarrow is needed for this one.\n",
    "parquetDf = pd.read_parquet('userdata.parquet', engine='auto')\n",
    "parquetDf.head()"
   ]
  },
  {
   "cell_type": "code",
   "execution_count": null,
   "id": "a549726d-a9fe-45c6-bdf3-98c40339c02a",
   "metadata": {},
   "outputs": [],
   "source": [
    "xmlDf = pd.read_xml('nutrition.xml')\n",
    "xmlDf.head(100)"
   ]
  },
  {
   "cell_type": "code",
   "execution_count": null,
   "id": "8ecf8170-a257-4a57-9060-e3a319d5ad6b",
   "metadata": {},
   "outputs": [],
   "source": [
    "jsonDf = pd.read_json('sampleusers.json')\n",
    "jsonDf.head()"
   ]
  },
  {
   "cell_type": "code",
   "execution_count": null,
   "id": "ef95e435-c261-481d-819b-b6f6de653b22",
   "metadata": {},
   "outputs": [],
   "source": [
    "nestedDf = pd.read_json('samplenested.json')\n",
    "nestedDf.head()"
   ]
  },
  {
   "cell_type": "code",
   "execution_count": null,
   "id": "39e33b91-af2c-4e7b-99b7-53abf804ef5d",
   "metadata": {},
   "outputs": [],
   "source": [
    "# back to the gapminder data and do some EDA\n",
    "df.head()"
   ]
  },
  {
   "cell_type": "code",
   "execution_count": null,
   "id": "82a8686e-81bc-4d65-9869-cadb82c5d7ab",
   "metadata": {},
   "outputs": [],
   "source": [
    "# get the number of rows and columns\n",
    "print(df.shape) # shape an attribute of type tuple"
   ]
  },
  {
   "cell_type": "code",
   "execution_count": null,
   "id": "5140fd4d-fda5-4787-ab02-dd6825f3e336",
   "metadata": {},
   "outputs": [],
   "source": [
    "# get the column names\n",
    "print(df.columns) # columns is also an attribute of the DataFrame"
   ]
  },
  {
   "cell_type": "code",
   "execution_count": null,
   "id": "c1593562-2548-427b-a1c7-7ee367ae7171",
   "metadata": {},
   "outputs": [],
   "source": [
    "# DataFrame rows can contain fields with different data type, colunns always\n",
    "# the same datatype for every row.\n",
    "\n",
    "# get the dtype of each column\n",
    "\n",
    "print(df.dtypes)"
   ]
  },
  {
   "cell_type": "code",
   "execution_count": null,
   "id": "ab99b1c5-f00d-4a52-bdff-8e4e8b809d73",
   "metadata": {},
   "outputs": [],
   "source": [
    "# an object is actually a string"
   ]
  },
  {
   "cell_type": "code",
   "execution_count": null,
   "id": "a197c08d-5723-491f-bf63-0e6b3d77e69c",
   "metadata": {},
   "outputs": [],
   "source": [
    "# get even more info about our data set\n",
    "print(df.info()) # this is not an attribute, but a method"
   ]
  },
  {
   "cell_type": "markdown",
   "id": "f1a4dd68-f342-435d-9a25-1d3f5b0ef4aa",
   "metadata": {},
   "source": [
    "## Looking at columns, rows an cells"
   ]
  },
  {
   "cell_type": "code",
   "execution_count": null,
   "id": "3fd0fc07-b10c-43b5-a898-dd078d8e4da6",
   "metadata": {},
   "outputs": [],
   "source": [
    "# just get the country column and save it to its own variable\n",
    "country_df = df['country']"
   ]
  },
  {
   "cell_type": "code",
   "execution_count": null,
   "id": "823edb57-6e17-46a3-a5e6-c79103dcf118",
   "metadata": {},
   "outputs": [],
   "source": [
    "print(country_df.head())"
   ]
  },
  {
   "cell_type": "code",
   "execution_count": null,
   "id": "4a7476e7-cec3-4bbb-b4b1-8814cf144193",
   "metadata": {},
   "outputs": [],
   "source": [
    "# and the last rows with .tail()\n",
    "print(country_df.tail())"
   ]
  },
  {
   "cell_type": "code",
   "execution_count": null,
   "id": "902477da-1966-405a-b1fc-7f80574fbe33",
   "metadata": {},
   "outputs": [],
   "source": [
    "# to select multiple columns you use a list with column names\n",
    "subset = df[['country', 'continent', 'year']]\n",
    "print(subset.head())"
   ]
  },
  {
   "cell_type": "code",
   "execution_count": null,
   "id": "0e054c37-0d5a-45b2-bf55-c3917561a698",
   "metadata": {},
   "outputs": [],
   "source": [
    "# selecting the first row using the loc attribute\n",
    "print(df.loc[0])"
   ]
  },
  {
   "cell_type": "code",
   "execution_count": null,
   "id": "8254e60e-c49e-440c-915c-48e9cc2d9133",
   "metadata": {},
   "outputs": [],
   "source": [
    "# get the 100th row\n",
    "print(df.loc[99])"
   ]
  },
  {
   "cell_type": "code",
   "execution_count": null,
   "id": "ffd5c9a2-e203-4fca-85b3-0e3a811b5ed2",
   "metadata": {},
   "outputs": [],
   "source": [
    "# get the last row\n",
    "print(df.loc[-1])"
   ]
  },
  {
   "cell_type": "code",
   "execution_count": null,
   "id": "3eea5eb7-2d63-4483-98ab-8c5840f5fed6",
   "metadata": {},
   "outputs": [],
   "source": [
    "# mmm -1 is not an index.\n",
    "number_of_rows = df.shape[0]\n",
    "last_row_index = number_of_rows-1\n",
    "print(df.loc[last_row_index])"
   ]
  },
  {
   "cell_type": "code",
   "execution_count": null,
   "id": "0b6a4993-6cbb-4ea9-8fe2-0dab8af78424",
   "metadata": {},
   "outputs": [],
   "source": [
    "# alternatively we can use the tail() method\n",
    "print(df.tail(n=1))"
   ]
  },
  {
   "cell_type": "code",
   "execution_count": null,
   "id": "8b6b7423-c5e6-42ac-a3df-df79de196e00",
   "metadata": {},
   "outputs": [],
   "source": [
    "# tail() and loc return different kinds of objects\n",
    "subset_loc = df.loc[0]\n",
    "subset_tail = df.tail(n=1)\n",
    "print(type(subset_loc))"
   ]
  },
  {
   "cell_type": "code",
   "execution_count": null,
   "id": "d15e208c-26f7-47d4-bbb7-0bdf9cd83496",
   "metadata": {},
   "outputs": [],
   "source": [
    "print(type(subset_tail))"
   ]
  },
  {
   "cell_type": "code",
   "execution_count": null,
   "id": "07b4788d-304e-4c12-b6e4-de0beeb72f6f",
   "metadata": {},
   "outputs": [],
   "source": [
    "# subsetting multiple rows\n",
    "# select the first, 100th, and 1000th rows\n",
    "# note the double square brackets similar to the syntax used to\n",
    "# subset multiple columns\n",
    "\n",
    "print(df.loc[[0, 99, 999]])"
   ]
  },
  {
   "cell_type": "code",
   "execution_count": null,
   "id": "9e6e234b-a0fb-40a6-81ef-0ffa434e97ab",
   "metadata": {},
   "outputs": [],
   "source": [
    "# we can also use the iloc attribute which use the index itself, \n",
    "# while loc uses the index label\n",
    "# get the 2nd row\n",
    "print(df.iloc[1])"
   ]
  },
  {
   "cell_type": "code",
   "execution_count": null,
   "id": "a4d08c78-7458-4280-a125-ad09af006a9c",
   "metadata": {},
   "outputs": [],
   "source": [
    "dftst = pd.DataFrame({'team': ['A', 'A', 'A', 'A', 'B', 'B', 'B', 'B'],\n",
    "                   'points': [5, 7, 7, 9, 12, 9, 9, 4],\n",
    "                   'assists': [11, 8, 10, 6, 6, 5, 9, 12]},\n",
    "                   index=['A', 'B', 'C', 'D', 'E', 'F', 'G', 'H'])\n",
    "dftst.loc['A']"
   ]
  },
  {
   "cell_type": "code",
   "execution_count": null,
   "id": "21f423a4-d896-4454-a881-adfdd61b8935",
   "metadata": {},
   "outputs": [],
   "source": [
    "dftst.iloc[0]"
   ]
  },
  {
   "cell_type": "code",
   "execution_count": null,
   "id": "78c35a0e-44f2-492d-b3b4-4619da948b1c",
   "metadata": {},
   "outputs": [],
   "source": [
    "## get the 100th row\n",
    "print(df.iloc[99])"
   ]
  },
  {
   "cell_type": "code",
   "execution_count": null,
   "id": "1d936b16-cc2c-4ebd-9a77-a5dde586913a",
   "metadata": {},
   "outputs": [],
   "source": [
    "# using -1 to get the last row\n",
    "print(df.iloc[-1])"
   ]
  },
  {
   "cell_type": "code",
   "execution_count": null,
   "id": "b7d5f13d-92b0-464b-9063-4d21414b10e7",
   "metadata": {},
   "outputs": [],
   "source": [
    "## get the first, 100th, and 1000th rows\n",
    "print(df.iloc[[0, 99, 999]])"
   ]
  },
  {
   "cell_type": "code",
   "execution_count": null,
   "id": "60061e2a-aaaa-431f-bbb8-aa3a018989f4",
   "metadata": {},
   "outputs": [],
   "source": [
    "# we can also slice columns with loc and iloc\n",
    "# The basic syntax is loc[[rows], [columns]]\n",
    "# subset columns with loc\n",
    "# note the position of the colon\n",
    "# it is used to select all rows\n",
    "\n",
    "subset = df.loc[:, ['year', 'pop']]\n",
    "print(subset.head())"
   ]
  },
  {
   "cell_type": "code",
   "execution_count": null,
   "id": "853c663c-7a25-491e-8a26-08fb6f952a74",
   "metadata": {},
   "outputs": [],
   "source": [
    "# subset columns with iloc\n",
    "# iloc will alow us to use integers\n",
    "# -1 will select the last column\n",
    "subset = df.iloc[:, [2, 4, -1]]\n",
    "print(subset.head())"
   ]
  },
  {
   "cell_type": "code",
   "execution_count": null,
   "id": "73b44631-872b-4a66-8d47-9b2cc20830e1",
   "metadata": {},
   "outputs": [],
   "source": [
    "# subset columns with loc\n",
    "# but pass in integer values\n",
    "# this will cause an error\n",
    "subset = df.loc[:, [2, 4, -1]]\n",
    "print(subset.head())"
   ]
  },
  {
   "cell_type": "code",
   "execution_count": null,
   "id": "fefcab4b-85b3-44bf-b53d-7aa623976bdf",
   "metadata": {},
   "outputs": [],
   "source": [
    "# subset columns with iloc\n",
    "# but pass in index names\n",
    "# this will cause an error\n",
    "subset = df.iloc[:, ['year', 'pop']]\n",
    "print(subset.head())"
   ]
  },
  {
   "cell_type": "code",
   "execution_count": null,
   "id": "888b19e8-76c5-4492-ab3c-4412202c4977",
   "metadata": {},
   "outputs": [],
   "source": [
    "# create a range of integers from 0 to 4 inclusive\n",
    "small_range = list(range(5))\n",
    "print(small_range)"
   ]
  },
  {
   "cell_type": "code",
   "execution_count": null,
   "id": "812e1b4b-134e-4a94-8f59-9b0676f41c2f",
   "metadata": {},
   "outputs": [],
   "source": [
    "# subset the dataframe with the range\n",
    "subset = df.iloc[:, small_range]\n",
    "print(subset.head())"
   ]
  },
  {
   "cell_type": "code",
   "execution_count": null,
   "id": "4e99bcc9-6806-4499-a940-0b2ad8e67538",
   "metadata": {},
   "outputs": [],
   "source": [
    "# create a range from 3 to 5 inclusive\n",
    "small_range = list(range(3, 6))\n",
    "print(small_range)"
   ]
  },
  {
   "cell_type": "code",
   "execution_count": null,
   "id": "f040df87-3323-494f-a5cf-eeb0c6151769",
   "metadata": {},
   "outputs": [],
   "source": [
    "subset = df.iloc[:, small_range]\n",
    "print(subset.head())"
   ]
  },
  {
   "cell_type": "code",
   "execution_count": null,
   "id": "1a78c977-1aa7-471e-909c-3ea02ed9e617",
   "metadata": {},
   "outputs": [],
   "source": [
    "# create a range from 0 to 5 inclusive, every other integer\n",
    "small_range = list(range(0, 6, 2))\n",
    "subset = df.iloc[:, small_range]\n",
    "print(subset.head())"
   ]
  },
  {
   "cell_type": "code",
   "execution_count": null,
   "id": "403c3e2e-3fb5-4561-af8d-8d7b4f8768bc",
   "metadata": {},
   "outputs": [],
   "source": [
    "# the range() function and the slicing operator : do basically the same\n",
    "small_range = list(range(3))\n",
    "subset = df.iloc[:, small_range]\n",
    "print(subset.head())\n",
    "# slice the first 3 columns\n",
    "subset = df.iloc[:, :3]\n",
    "print(subset.head())"
   ]
  },
  {
   "cell_type": "code",
   "execution_count": null,
   "id": "2338435d-cd31-459a-872d-ed60450bf31f",
   "metadata": {},
   "outputs": [],
   "source": [
    "small_range = list(range(3, 6))\n",
    "subset = df.iloc[:, small_range]\n",
    "print(subset.head())\n",
    "# slice columns 3 to 5 inclusive\n",
    "subset = df.iloc[:, 3:6]\n",
    "print(subset.head())"
   ]
  },
  {
   "cell_type": "code",
   "execution_count": null,
   "id": "3d4ca7dd-6ab3-420b-b8b1-cd65db17bdeb",
   "metadata": {},
   "outputs": [],
   "source": [
    "small_range = list(range(0, 6, 2))\n",
    "subset = df.iloc[:, small_range]\n",
    "print(subset.head())\n",
    "\n",
    "# slice every other first 5 columns\n",
    "subset = df.iloc[:, 0:6:2]\n",
    "print(subset.head())"
   ]
  },
  {
   "cell_type": "code",
   "execution_count": null,
   "id": "50a150f4-465d-479b-bd64-47aad8d46667",
   "metadata": {},
   "outputs": [],
   "source": [
    "# subsetting rows and columns \n",
    "# using loc\n",
    "print(df.loc[42, 'country'])"
   ]
  },
  {
   "cell_type": "code",
   "execution_count": null,
   "id": "605dda0e-ebe6-4406-b576-c77abca8c7cb",
   "metadata": {},
   "outputs": [],
   "source": [
    "# using iloc\n",
    "print(df.iloc[42, 0])"
   ]
  },
  {
   "cell_type": "code",
   "execution_count": null,
   "id": "dc125e02-e3d6-456f-b7b0-0179120a8ea2",
   "metadata": {},
   "outputs": [],
   "source": [
    "# get the 1st, 100th, and 1000th rows\n",
    "# from the 1st, 4th, and 6th columns\n",
    "# the columns we are hoping to get are\n",
    "# country, lifeExp, and gdpPercap\n",
    "print(df.iloc[[0, 99, 999], [0, 3, 5]])"
   ]
  },
  {
   "cell_type": "markdown",
   "id": "a9127d9d-c944-49f7-8d7c-d440d06735eb",
   "metadata": {},
   "source": [
    "## 1.4 Grouped and Aggregated Calculations"
   ]
  },
  {
   "cell_type": "code",
   "execution_count": null,
   "id": "30c68b80-f61b-4606-99aa-1e5f386c90ec",
   "metadata": {},
   "outputs": [],
   "source": [
    "print(df.head(n=10))"
   ]
  },
  {
   "cell_type": "code",
   "execution_count": null,
   "id": "94e71579-83fb-4edd-bd92-0b0976c2f018",
   "metadata": {},
   "outputs": [],
   "source": [
    "# Grouped Means\n",
    "\n",
    "# For each year in our data, what was the average life expectancy?\n",
    "# To answer this question,\n",
    "# we need to split our data into parts by year;\n",
    "# then we get the 'lifeExp' column and calculate the mean\n",
    "print(df.groupby('year')['lifeExp'].mean())"
   ]
  },
  {
   "cell_type": "code",
   "execution_count": null,
   "id": "236d3153-238d-492b-a5c0-f824789b6dde",
   "metadata": {},
   "outputs": [],
   "source": [
    "# let's unpack that statement\n",
    "grouped_year_df = df.groupby('year')\n",
    "print(type(grouped_year_df))"
   ]
  },
  {
   "cell_type": "code",
   "execution_count": null,
   "id": "f7982534-2b79-494e-b22d-f107745c5647",
   "metadata": {},
   "outputs": [],
   "source": [
    "# we can subset the grouped by dataframe\n",
    "grouped_year_df_lifeExp = grouped_year_df['lifeExp']\n",
    "print(type(grouped_year_df_lifeExp))"
   ]
  },
  {
   "cell_type": "code",
   "execution_count": null,
   "id": "fb5b7a59-bfdc-4278-801e-9f826af4393f",
   "metadata": {},
   "outputs": [],
   "source": [
    "mean_lifeExp_by_year = grouped_year_df_lifeExp.mean()\n",
    "print(mean_lifeExp_by_year)"
   ]
  },
  {
   "cell_type": "code",
   "execution_count": null,
   "id": "606f217c-b4a0-4ccf-82f4-319ee4027bf0",
   "metadata": {},
   "outputs": [],
   "source": [
    "# The mean of an ungrouped dataframe is the mean of all rows...\n",
    "print(df['lifeExp'].mean())"
   ]
  },
  {
   "cell_type": "code",
   "execution_count": null,
   "id": "be32a481-2a57-47b3-a150-a4cf36c505d3",
   "metadata": {},
   "outputs": [],
   "source": [
    "# doing stratified analysis on multiple columns\n",
    "multi_group_var = df.groupby(['year', 'continent'])[['lifeExp', 'gdpPercap']].mean()\n",
    "print(multi_group_var)"
   ]
  },
  {
   "cell_type": "code",
   "execution_count": null,
   "id": "68c33fb6-583f-4546-bb27-982b5ea02e65",
   "metadata": {},
   "outputs": [],
   "source": [
    "# if you actually need a flat tabel, you can use the \n",
    "# reset_index() function.\n",
    "flat = multi_group_var.reset_index()\n",
    "print(flat.head(15))"
   ]
  },
  {
   "cell_type": "code",
   "execution_count": null,
   "id": "b8ebf9ef-38cd-453f-bd78-87915e694dcb",
   "metadata": {},
   "outputs": [],
   "source": [
    "# use the nunique (number unique)\n",
    "# to calculate the number of unique values in a series\n",
    "# Let's calculate the number of unique countries per continent in the data set\n",
    "print(df.groupby('continent')['country'].nunique())"
   ]
  },
  {
   "cell_type": "code",
   "execution_count": null,
   "id": "161ac73c-06c1-49cd-ac3f-4fdd5ce8cee3",
   "metadata": {},
   "outputs": [],
   "source": [
    "global_yearly_life_expectancy = df.groupby('year')['lifeExp'].mean()\n",
    "print(global_yearly_life_expectancy)"
   ]
  },
  {
   "cell_type": "code",
   "execution_count": null,
   "id": "5f0282f8-0f5c-4633-a38f-53dc1ce90b34",
   "metadata": {},
   "outputs": [],
   "source": [
    "global_yearly_life_expectancy.plot()"
   ]
  },
  {
   "cell_type": "code",
   "execution_count": null,
   "id": "fbe3d48b-7ac7-4497-a24c-3e2222ce307b",
   "metadata": {},
   "outputs": [],
   "source": []
  }
 ],
 "metadata": {
  "kernelspec": {
   "display_name": "Python 3 (ipykernel)",
   "language": "python",
   "name": "python3"
  },
  "language_info": {
   "codemirror_mode": {
    "name": "ipython",
    "version": 3
   },
   "file_extension": ".py",
   "mimetype": "text/x-python",
   "name": "python",
   "nbconvert_exporter": "python",
   "pygments_lexer": "ipython3",
   "version": "3.10.9"
  }
 },
 "nbformat": 4,
 "nbformat_minor": 5
}
